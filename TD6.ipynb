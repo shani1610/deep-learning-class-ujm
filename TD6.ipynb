{
 "cells": [
  {
   "attachments": {},
   "cell_type": "markdown",
   "metadata": {},
   "source": [
    "## Deep Learning and Computer Vision\n",
    "\n",
    "### Encoder-Decoder - Transposed Convolutions\n",
    "\n",
    "Shani Israelov\n",
    "\n",
    "Jean Monnet University, 2023"
   ]
  },
  {
   "attachments": {},
   "cell_type": "markdown",
   "metadata": {},
   "source": [
    "The aim of this exercise is to code a convolution auto-encoder to create digit images.\n",
    "You will use the MNIST dataset."
   ]
  },
  {
   "attachments": {},
   "cell_type": "markdown",
   "metadata": {},
   "source": [
    "1/ Create and train a simple convolutional auto-encoder with :\n",
    "- 3 encoding convolutional layers with max pooling after the two first conv. layers\n",
    "- 1 dense layer (embedding space)\n",
    "- 1 dense layer (49 neurons)\n",
    "- Reshape (7 x7)\n",
    "- 3 decoding transposed convolutional layers (use \"strides\" for upsampling)\n",
    "- 1 convolutional layer (sigmoid function as activation)\n",
    "The loss function is the mean square error between the input and the output (0.01 would be not too\n",
    "bad for the validation set)."
   ]
  },
  {
   "cell_type": "code",
   "execution_count": 3,
   "metadata": {},
   "outputs": [],
   "source": [
    "from keras.models import Model\n",
    "from keras.datasets import mnist\n",
    "from keras.models import Sequential\n",
    "from keras.layers import Dense, Activation, Conv2D, MaxPooling2D, UpSampling2D\n",
    "from keras.optimizers import adam_v2\n",
    "import numpy as np\n",
    "(x_train, _), (x_test, _) = mnist.load_data()"
   ]
  },
  {
   "cell_type": "code",
   "execution_count": 4,
   "metadata": {},
   "outputs": [
    {
     "data": {
      "image/png": "[encoded data removed]",
      "text/plain": [
       "<Figure size 2000x400 with 10 Axes>"
      ]
     },
     "metadata": {},
     "output_type": "display_data"
    }
   ],
   "source": [
    "import matplotlib.pyplot as plt\n",
    "\n",
    "n = 10  # how many records we will display\n",
    "plt.figure(figsize=(20, 4))\n",
    "for i in range(n):\n",
    "    # display original\n",
    "    ax = plt.subplot(2, n, i + 1)\n",
    "    plt.imshow(x_test[i].reshape(28, 28))\n",
    "    plt.gray()\n",
    "    ax.get_xaxis().set_visible(False)\n",
    "    ax.get_yaxis().set_visible(False)\n",
    "\n",
    "plt.show()"
   ]
  },
  {
   "cell_type": "code",
   "execution_count": null,
   "metadata": {},
   "outputs": [],
   "source": [
    "x_train = x_train.reshape((len(x_train), 784))\n",
    "x_test = x_test.reshape((len(x_test), 784))\n",
    "x_train.shape"
   ]
  },
  {
   "cell_type": "code",
   "execution_count": null,
   "metadata": {},
   "outputs": [],
   "source": [
    "# Normalize\n",
    "x_train = x_train.reshape((len(x_train), np.prod(x_train.shape[1:])))\n",
    "x_test = x_test.reshape((len(x_test), np.prod(x_test.shape[1:])))\n"
   ]
  },
  {
   "cell_type": "code",
   "execution_count": 7,
   "metadata": {},
   "outputs": [
    {
     "ename": "SyntaxError",
     "evalue": "positional argument follows keyword argument (1458337972.py, line 17)",
     "output_type": "error",
     "traceback": [
      "\u001b[1;36m  Cell \u001b[1;32mIn [7], line 17\u001b[1;36m\u001b[0m\n\u001b[1;33m    x = Conv2D(filters = 8, (3, 3), activation='relu', padding='same')(x)\u001b[0m\n\u001b[1;37m                                                                     ^\u001b[0m\n\u001b[1;31mSyntaxError\u001b[0m\u001b[1;31m:\u001b[0m positional argument follows keyword argument\n"
     ]
    }
   ],
   "source": [
    "\n",
    "model = Sequential([\n",
    "    # Encoding\n",
    "    Conv2D(filters = 16, kernel_size = (3, 3), activation='relu', padding='same'),\n",
    "    MaxPooling2D(pool_size = (2, 2), padding='same'),\n",
    "    Conv2D(filters = 8, kernel_size = (3, 3), activation='relu', padding='same'),\n",
    "    MaxPooling2D(pool_size = (2, 2), padding='same'),\n",
    "    Conv2D(filters = 8, kernel_size = (3, 3), activation='relu', padding='same'),\n",
    "    MaxPooling2D(pool_size = (2, 2), padding='same'),\n",
    "    # Decoding\n",
    "    Conv2D(8, (3, 3), activation='relu', padding='same'),\n",
    "    UpSampling2D((2, 2)),\n",
    "    Conv2D(8, (3, 3), activation='relu', padding='same'),\n",
    "    UpSampling2D((2, 2)),\n",
    "    Conv2D(16, (3, 3), activation='relu'),\n",
    "    UpSampling2D((2, 2)),\n",
    "    Conv2D(1, (3, 3), activation='sigmoid', padding='same')\n",
    "])\n"
   ]
  },
  {
   "cell_type": "code",
   "execution_count": null,
   "metadata": {},
   "outputs": [],
   "source": [
    "# Declare the model\n",
    "model.compile(loss = 'mse',\n",
    "              optimizer = adam_v2.Adam()\n",
    "             )"
   ]
  },
  {
   "cell_type": "code",
   "execution_count": null,
   "metadata": {},
   "outputs": [],
   "source": [
    "# Train the model\n",
    "model.fit(x_train, x_train,\n",
    "                epochs=5,\n",
    "                batch_size=16,\n",
    "                shuffle=True,\n",
    "                verbose=1,\n",
    "                validation_data=(x_test, x_test)\n",
    "               )"
   ]
  },
  {
   "attachments": {},
   "cell_type": "markdown",
   "metadata": {},
   "source": [
    "2/ Observe the quality of the output for some test images.\n"
   ]
  },
  {
   "cell_type": "code",
   "execution_count": null,
   "metadata": {},
   "outputs": [],
   "source": [
    "decoded_imgs = model.predict(x_test)"
   ]
  },
  {
   "cell_type": "code",
   "execution_count": null,
   "metadata": {},
   "outputs": [],
   "source": [
    "\n",
    "n = 10\n",
    "\n",
    "plt.figure(figsize=(20, 4))\n",
    "for i in range(n):\n",
    "    # display original\n",
    "    ax = plt.subplot(2, n, i + 1)\n",
    "    plt.imshow(x_test[i].reshape(28, 28))\n",
    "    plt.gray()\n",
    "    ax.get_xaxis().set_visible(False)\n",
    "    ax.get_yaxis().set_visible(False)\n",
    "\n",
    "    # display reconstruction\n",
    "    ax = plt.subplot(2, n, i+1+n)\n",
    "    plt.imshow(decoded_imgs[i].reshape(28, 28))\n",
    "    plt.gray()\n",
    "    ax.get_xaxis().set_visible(False)\n",
    "    ax.get_yaxis().set_visible(False)\n",
    "    \n",
    "plt.show()"
   ]
  },
  {
   "attachments": {},
   "cell_type": "markdown",
   "metadata": {},
   "source": [
    "3/ Encode two images from two different digits. Compute the average of two 49-D vectors in the\n",
    "latent space. Decode this average. Compare with the average of the two decoded images."
   ]
  },
  {
   "cell_type": "code",
   "execution_count": null,
   "metadata": {},
   "outputs": [],
   "source": []
  },
  {
   "attachments": {},
   "cell_type": "markdown",
   "metadata": {},
   "source": [
    "4/ Transform your auto-encoder into a denoising network."
   ]
  },
  {
   "cell_type": "code",
   "execution_count": null,
   "metadata": {},
   "outputs": [],
   "source": [
    "# noise_factor = 0.5\n",
    "# X_train_noisy = X_train + noise_factor * np.random.normal(loc=0.0,\n",
    "# scale=1.0, size=X_train.shape)\n",
    "# X_test_noisy = X_test + noise_factor * np.random.normal(loc=0.0,\n",
    "# scale=1.0, size=X_test.shape)\n",
    "# X_train_noisy = np.clip(X_train_noisy, 0., 1.)\n",
    "# X_test_noisy = np.clip(X_test_noisy, 0., 1.)"
   ]
  },
  {
   "attachments": {},
   "cell_type": "markdown",
   "metadata": {},
   "source": [
    "#### References: \n",
    "[1] https://towardsdatascience.com/convolutional-autoencoders-for-image-noise-reduction-32fce9fc1763\n"
   ]
  }
 ],
 "metadata": {
  "kernelspec": {
   "display_name": "Python 3",
   "language": "python",
   "name": "python3"
  },
  "language_info": {
   "codemirror_mode": {
    "name": "ipython",
    "version": 3
   },
   "file_extension": ".py",
   "mimetype": "text/x-python",
   "name": "python",
   "nbconvert_exporter": "python",
   "pygments_lexer": "ipython3",
   "version": "3.10.7"
  },
  "orig_nbformat": 4
 },
 "nbformat": 4,
 "nbformat_minor": 2
}
